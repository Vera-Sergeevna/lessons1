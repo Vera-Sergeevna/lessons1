{
 "cells": [
  {
   "cell_type": "markdown",
   "metadata": {},
   "source": [
    "Задание 1\n",
    "Скачайте с сайта https://grouplens.org/datasets/movielens/ датасет любого размера. Определите какому фильму было выставлено больше всего оценок 5.0."
   ]
  },
  {
   "cell_type": "code",
   "execution_count": 59,
   "metadata": {},
   "outputs": [
    {
     "data": {
      "text/html": [
       "<div>\n",
       "<style scoped>\n",
       "    .dataframe tbody tr th:only-of-type {\n",
       "        vertical-align: middle;\n",
       "    }\n",
       "\n",
       "    .dataframe tbody tr th {\n",
       "        vertical-align: top;\n",
       "    }\n",
       "\n",
       "    .dataframe thead th {\n",
       "        text-align: right;\n",
       "    }\n",
       "</style>\n",
       "<table border=\"1\" class=\"dataframe\">\n",
       "  <thead>\n",
       "    <tr style=\"text-align: right;\">\n",
       "      <th></th>\n",
       "      <th>userId</th>\n",
       "      <th>rating</th>\n",
       "      <th>timestamp</th>\n",
       "    </tr>\n",
       "    <tr>\n",
       "      <th>movieId</th>\n",
       "      <th></th>\n",
       "      <th></th>\n",
       "      <th></th>\n",
       "    </tr>\n",
       "  </thead>\n",
       "  <tbody>\n",
       "    <tr>\n",
       "      <th>318</th>\n",
       "      <td>153</td>\n",
       "      <td>153</td>\n",
       "      <td>153</td>\n",
       "    </tr>\n",
       "  </tbody>\n",
       "</table>\n",
       "</div>"
      ],
      "text/plain": [
       "         userId  rating  timestamp\n",
       "movieId                           \n",
       "318         153     153        153"
      ]
     },
     "execution_count": 59,
     "metadata": {},
     "output_type": "execute_result"
    }
   ],
   "source": [
    "import pandas as pd\n",
    "ratings=pd.read_csv('ratings.csv')\n",
    "ratings_5=ratings.query('rating==5')\n",
    "ratings_5.groupby('movieId').count().sort_values('rating',ascending=False).head(1)    \n"
   ]
  },
  {
   "cell_type": "markdown",
   "metadata": {},
   "source": [
    "Задание 2\n",
    "По данным файла power.csv посчитайте суммарное потребление стран Прибалтики (Латвия, Литва и Эстония) категорий 4, 12 и 21 за период с 2005 по 2010 года. Не учитывайте в расчетах отрицательные значения quantity.\n",
    "\n"
   ]
  },
  {
   "cell_type": "code",
   "execution_count": 112,
   "metadata": {},
   "outputs": [
    {
     "data": {
      "text/plain": [
       "408"
      ]
     },
     "execution_count": 112,
     "metadata": {},
     "output_type": "execute_result"
    }
   ],
   "source": [
    "import pandas as pd\n",
    "power=pd.read_csv('power.csv')\n",
    "\n",
    "countryes = ['Lithuania', 'Latvia', 'Estonia']\n",
    "\n",
    "power_filter_country = power[(power['country'] == countryes[0]) | (power['country'] == countryes[1]) | (power['country'] == countryes[2])]\n",
    "power_filter_catCou = power_filter_country[(power_filter01['category'] == 4) |  (power_filter_country['category'] == 12) | (power_filter_country['category'] == 21)]\n",
    "power_filter_all = power_filter_catCou[(power_filter_catCou['year'] < 2011) & (power_filter_catCou['year'] > 2004) & (power_filter_catCou['quantity'] >= 0)]\n",
    "\n",
    "country_all = power_filter_all['country'].value_counts()\n",
    "sum_all = sum(country_all)\n",
    "sum_all\n",
    "  "
   ]
  },
  {
   "cell_type": "markdown",
   "metadata": {},
   "source": [
    "Задание 3\n",
    "Выберите страницу любого сайта с табличными данными. Импортируйте таблицы в pandas dataframe.\n",
    "Примеры страниц (необязательно брать именно эти):\n",
    "https://fortrader.org/quotes\n",
    "https://www.finanz.ru/valyuty/v-realnom-vremeni"
   ]
  },
  {
   "cell_type": "code",
   "execution_count": 110,
   "metadata": {},
   "outputs": [
    {
     "name": "stdout",
     "output_type": "stream",
     "text": [
      "         0        1      2        3       4      5               6       7   \\\n",
      "0  аааа   2Т 762   0,0%   Nasdaq  9Т 757  -2,6%  ааИбаКаОаЙаН  9Т 112   \n",
      "1    а аЂаЁ   1Т 247  -0,8%   S&P500  3Т 009  -2,4%      ааЕббб     401   \n",
      "2       Dow  25Т 016  -2,8%  FTSE100  6Т 159   0,2%    ааОаЛаОбаО  1Т 772   \n",
      "\n",
      "      8        9       10    11  \n",
      "0  -0,2%  USD/RUB  698393  0,1%  \n",
      "1  -1,4%  EUR/RUB  785999  0,4%  \n",
      "2   0,0%  EUR/USD   11255  0,3%  \n"
     ]
    }
   ],
   "source": [
    "table = pd.read_html('https://www.finanz.ru/valyuty/v-realnom-vremeni')[0]\n",
    "print(table)"
   ]
  },
  {
   "cell_type": "code",
   "execution_count": null,
   "metadata": {},
   "outputs": [],
   "source": []
  }
 ],
 "metadata": {
  "kernelspec": {
   "display_name": "Python 3",
   "language": "python",
   "name": "python3"
  },
  "language_info": {
   "codemirror_mode": {
    "name": "ipython",
    "version": 3
   },
   "file_extension": ".py",
   "mimetype": "text/x-python",
   "name": "python",
   "nbconvert_exporter": "python",
   "pygments_lexer": "ipython3",
   "version": "3.7.6"
  }
 },
 "nbformat": 4,
 "nbformat_minor": 4
}
