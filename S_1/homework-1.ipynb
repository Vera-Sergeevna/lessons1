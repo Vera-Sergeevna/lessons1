{
 "cells": [
  {
   "cell_type": "markdown",
   "metadata": {},
   "source": [
    "# Домашняя работа №1"
   ]
  },
  {
   "cell_type": "code",
   "execution_count": 1,
   "metadata": {},
   "outputs": [],
   "source": [
    "import numpy as np"
   ]
  },
  {
   "cell_type": "markdown",
   "metadata": {},
   "source": [
    "## Задание 1"
   ]
  },
  {
   "cell_type": "markdown",
   "metadata": {},
   "source": [
    "Изобразите с помощью matplotlib. Изобразите точку x + 2y + 3z. Найдите угол между векторами x, y и x, z. "
   ]
  },
  {
   "cell_type": "code",
   "execution_count": 50,
   "metadata": {},
   "outputs": [
    {
     "name": "stdout",
     "output_type": "stream",
     "text": [
      "angle  is 5.07 degrese\n",
      "angle  is 8.33 degrese\n"
     ]
    },
    {
     "data": {
      "image/png": "[encoded data removed]",
      "text/plain": [
       "<Figure size 432x288 with 1 Axes>"
      ]
     },
     "metadata": {
      "needs_background": "light"
     },
     "output_type": "display_data"
    }
   ],
   "source": [
    "x = np.array([10,1])\n",
    "y = np.array([90, 1])\n",
    "z = np.array([8,2])\n",
    "point=x+(2*y)+(3*z)\n",
    "from matplotlib.pyplot import (axes,axis,title,legend,figure,\n",
    "                               xlabel,ylabel,xticks,yticks,\n",
    "                               xscale,yscale,text,grid,\n",
    "                               plot,scatter,errorbar,hist,polar,\n",
    "                               contour,contourf,colorbar,clabel,\n",
    "                               imshow)\n",
    "from mpl_toolkits.mplot3d import Axes3D\n",
    "from numpy import (linspace,logspace,zeros,ones,outer,meshgrid,\n",
    "                   pi,sin,cos,sqrt,exp)\n",
    "from numpy.random import normal\n",
    " \n",
    "%matplotlib inline \n",
    "\n",
    "\n",
    "scatter(point[0],point[1])\n",
    "\n",
    "for e1, e2 in ((x, y), (x, z)):\n",
    "    num = np.dot(e1, e2)\n",
    "    denom = np.linalg.norm(e1) * np.linalg.norm(e2)\n",
    "    ugol=round((np.arccos(num/denom)*(180/pi)),2)\n",
    "    print(f'angle  is {ugol} degrese')\n"
   ]
  },
  {
   "cell_type": "markdown",
   "metadata": {},
   "source": [
    "## Задание 2"
   ]
  },
  {
   "cell_type": "markdown",
   "metadata": {},
   "source": [
    "Найдите собственные значения и собственные вектора матриц (необходимо решение на numpy и решение по алгоритму на бумажке). Для матрицы 3x3 можно посмотреть на корни характеристического многочлена, посчитанные в numpy."
   ]
  },
  {
   "cell_type": "code",
   "execution_count": 64,
   "metadata": {},
   "outputs": [
    {
     "name": "stdout",
     "output_type": "stream",
     "text": [
      "m1   (array([1., 4.]), array([[-0.89442719, -0.70710678],\n",
      "       [ 0.4472136 , -0.70710678]]))\n",
      "m2   (array([3., 6., 3.]), array([[-0.81649658,  0.57735027, -0.27658128],\n",
      "       [ 0.40824829,  0.57735027,  0.8035929 ],\n",
      "       [-0.40824829, -0.57735027,  0.52701162]]))\n"
     ]
    }
   ],
   "source": [
    "m1 = np.array([[2, 2],\n",
    "               [1, 3]])\n",
    "\n",
    "m2 = np.array([[4, 1, -1],\n",
    "               [1, 4, -1],\n",
    "               [-1, -1, 4]])\n",
    "print('m1  ',np.linalg.eig(m1))\n",
    "print('m2  ',np.linalg.eig(m2))\n",
    "\n"
   ]
  },
  {
   "cell_type": "markdown",
   "metadata": {},
   "source": [
    "## Задание 3"
   ]
  },
  {
   "cell_type": "markdown",
   "metadata": {},
   "source": [
    "Найдите сингулярное разложение матрицы."
   ]
  },
  {
   "cell_type": "code",
   "execution_count": 43,
   "metadata": {},
   "outputs": [
    {
     "data": {
      "text/plain": [
       "(array([[ 0.08882043,  0.99604766],\n",
       "        [ 0.99604766, -0.08882043]]),\n",
       " array([9.73208009, 2.0704147 ]),\n",
       " array([[ 0.21382024,  0.32529365,  0.92112157],\n",
       "        [ 0.39528641,  0.83347265, -0.38609843],\n",
       "        [-0.893325  ,  0.4466625 ,  0.04962917]]))"
      ]
     },
     "execution_count": 43,
     "metadata": {},
     "output_type": "execute_result"
    }
   ],
   "source": [
    "m3 = np.array([[1, 2,0],\n",
    "               [2, 3,9]])\n",
    "np.linalg.svd(m3)"
   ]
  },
  {
   "cell_type": "code",
   "execution_count": null,
   "metadata": {},
   "outputs": [],
   "source": []
  }
 ],
 "metadata": {
  "kernelspec": {
   "display_name": "Python 3",
   "language": "python",
   "name": "python3"
  },
  "language_info": {
   "codemirror_mode": {
    "name": "ipython",
    "version": 3
   },
   "file_extension": ".py",
   "mimetype": "text/x-python",
   "name": "python",
   "nbconvert_exporter": "python",
   "pygments_lexer": "ipython3",
   "version": "3.7.6"
  }
 },
 "nbformat": 4,
 "nbformat_minor": 2
}
