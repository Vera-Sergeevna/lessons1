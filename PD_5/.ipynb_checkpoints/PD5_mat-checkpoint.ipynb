{
 "cells": [
  {
   "cell_type": "markdown",
   "metadata": {},
   "source": [
    "Построить 5 графиков по выбранным данным.\n",
    "\n",
    "Графики должны быть различных видов и использовать хотя бы 2 из рассмотренных на занятии библиотек.\n",
    "\n",
    "Для каждого описать, какого типа переменные участвуют в визуализации, какова её цель (например, посмотреть на корреляцию двух величин или на распределение значений) и почему выбрали именно такой тип графика."
   ]
  },
  {
   "cell_type": "code",
   "execution_count": null,
   "metadata": {},
   "outputs": [],
   "source": [
    "#увеличим дефолтный размер графиков\n",
    "from pylab import rcParams\n",
    "rcParams['figure.figsize'] = 10,7\n",
    "\n",
    "# импортируем нужные библиотеки\n",
    "import pandas as pd\n",
    "import matplotlib.pyplot as plt\n",
    "import seaborn as sns\n",
    "from plotly.offline import init_notebook_mode, iplot\n",
    "import plotly\n",
    "import plotly.graph_objs as go\n",
    "\n",
    "init_notebook_mode(connected=True)"
   ]
  },
  {
   "cell_type": "code",
   "execution_count": null,
   "metadata": {},
   "outputs": [],
   "source": [
    "df = pd.read_csv('cherepovets.csv').dropna()\n",
    "df\n"
   ]
  },
  {
   "cell_type": "code",
   "execution_count": null,
   "metadata": {},
   "outputs": [],
   "source": [
    "df.plot.hist()\n",
    "# Распределения различных величин в выборке"
   ]
  },
  {
   "cell_type": "code",
   "execution_count": null,
   "metadata": {},
   "outputs": [],
   "source": [
    "# Смотрим распределений мин. температуры в течение года.\n",
    "df['Минимальная температура'].plot(kind='bar', rot=45)\n",
    "plt.xticks([])"
   ]
  },
  {
   "cell_type": "code",
   "execution_count": null,
   "metadata": {},
   "outputs": [],
   "source": [
    "# Смотрим распределений мах. температуры в течение года.\n",
    "df['Максимальная температура'].plot(kind='bar', rot=45)\n",
    "plt.xticks([])"
   ]
  },
  {
   "cell_type": "code",
   "execution_count": null,
   "metadata": {},
   "outputs": [],
   "source": [
    "# Смотрим какая скорость ветра преоблада в течение года\n",
    "Wind_days = df.sort_values('Скорость ветра')['Скорость ветра'].value_counts()\n",
    "Wind_days.plot(kind='pie', y='Count')\n",
    "# Чаще всего встречалась скорость ветра от 2 до 3 м/с, ветренных дней со скоростью более 4 - совсем немного"
   ]
  },
  {
   "cell_type": "code",
   "execution_count": null,
   "metadata": {},
   "outputs": [],
   "source": [
    "sns_plot = sns.pairplot(df[['Средняя температура', 'Скорость ветра']])\n",
    "sns_plot"
   ]
  },
  {
   "cell_type": "code",
   "execution_count": null,
   "metadata": {},
   "outputs": [],
   "source": [
    "sns.distplot(df['Скорость ветра'])\n",
    "# Ну, почти нормальное распределние :)"
   ]
  },
  {
   "cell_type": "code",
   "execution_count": null,
   "metadata": {},
   "outputs": [],
   "source": [
    "sns.jointplot(x='Минимальная температура', y='Максимальная температура', \n",
    "              data=df, kind='reg')\n",
    "# По линии тренда можно оценить среднегодовую температуру, если сравнивать разные года"
   ]
  },
  {
   "cell_type": "code",
   "execution_count": null,
   "metadata": {},
   "outputs": [],
   "source": [
    "ata = []\n",
    "max_wind_speed = df['Скорость ветра'].max()\n",
    "for ms in range(a.astype(int)):\n",
    "    data.append(\n",
    "        go.Box(y=df[df['Скорость ветра']==ms]['Средняя температура'], \n",
    "               name=f'Температуры при скорости ветра {ms} м/с')\n",
    "    )\n",
    "iplot(data, show_link = False)"
   ]
  }
 ],
 "metadata": {
  "kernelspec": {
   "display_name": "Python 3",
   "language": "python",
   "name": "python3"
  },
  "language_info": {
   "codemirror_mode": {
    "name": "ipython",
    "version": 3
   },
   "file_extension": ".py",
   "mimetype": "text/x-python",
   "name": "python",
   "nbconvert_exporter": "python",
   "pygments_lexer": "ipython3",
   "version": "3.7.6"
  }
 },
 "nbformat": 4,
 "nbformat_minor": 4
}
