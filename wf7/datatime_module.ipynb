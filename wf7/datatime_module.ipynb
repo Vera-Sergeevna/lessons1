{
 "cells": [
  {
   "cell_type": "markdown",
   "metadata": {},
   "source": [
    "Задание 1\n",
    "Печатные газеты использовали свой формат дат для каждого выпуска. Для каждой газеты из списка напишите формат указанной даты для перевода в объект datetime:\n",
    "The Moscow Times - Wednesday, October 2, 2002\n",
    "The Guardian - Friday, 11.10.13\n",
    "Daily News - Thursday, 18 August 1977\n"
   ]
  },
  {
   "cell_type": "code",
   "execution_count": 5,
   "metadata": {},
   "outputs": [],
   "source": [
    "TheMoscowTimes = 'Wednesday, October 2, 2002'\n",
    "TheGuardian = 'Friday, 11.10.13'\n",
    "DailyNews = 'Thursday, 18 August 1977'\n",
    "from datetime import datetime\n",
    "the_moscow_time_data = datetime.strptime(TheMoscowTimes, '%A, %B %d, %Y')\n",
    "the_gardian_data = datetime.strptime(TheGuardian, '%A, %d.%m.%y')\n",
    "daily_news_data = datetime.strptime(DailyNews, '%A, %d %B %Y')\n"
   ]
  },
  {
   "cell_type": "markdown",
   "metadata": {},
   "source": [
    "адание 2\n",
    "Дан поток дат в формате YYYY-MM-DD, в которых встречаются некорректные значения:\n",
    "stream = [‘2018-04-02’, ‘2018-02-29’, ‘2018-19-02’]\n",
    "\n",
    "Напишите функцию, которая проверяет эти даты на корректность. Т. е. для каждой даты возвращает True (дата корректна) или False (некорректная дата)."
   ]
  },
  {
   "cell_type": "code",
   "execution_count": 6,
   "metadata": {},
   "outputs": [
    {
     "data": {
      "text/plain": [
       "[True, False, False]"
      ]
     },
     "execution_count": 6,
     "metadata": {},
     "output_type": "execute_result"
    }
   ],
   "source": [
    "stream = ['2018-04-02', '2018-02-29', '2018-19-02']\n",
    "from datetime import datetime\n",
    "\n",
    "def index_check(stream):\n",
    "    correct_index = []\n",
    "\n",
    "    for i in stream:\n",
    "        try:\n",
    "            data_list_date = datetime.strptime(i, '%Y-%m-%d')\n",
    "            correct_index.append(True)\n",
    "        except ValueError:\n",
    "            correct_index.append(False)\n",
    "        \n",
    "    return(correct_index)\n",
    "\n",
    "index_check(stream)"
   ]
  },
  {
   "cell_type": "markdown",
   "metadata": {},
   "source": [
    "Задание 3\n",
    "Напишите функцию date_range, которая возвращает список дат за период от start_date до end_date. Даты должны вводиться в формате YYYY-MM-DD. В случае неверного формата или при start_date > end_date должен возвращаться пустой список."
   ]
  },
  {
   "cell_type": "code",
   "execution_count": 8,
   "metadata": {},
   "outputs": [
    {
     "name": "stdout",
     "output_type": "stream",
     "text": [
      "Введите дату начала в формате YYYY-MM-DD 2020-01-01\n",
      "Введите дату конца в формате YYYY-MM-DD 2020-01-09\n"
     ]
    },
    {
     "data": {
      "text/plain": [
       "['2020-01-01',\n",
       " '2020-01-02',\n",
       " '2020-01-03',\n",
       " '2020-01-04',\n",
       " '2020-01-05',\n",
       " '2020-01-06',\n",
       " '2020-01-07',\n",
       " '2020-01-08',\n",
       " '2020-01-09']"
      ]
     },
     "execution_count": 8,
     "metadata": {},
     "output_type": "execute_result"
    }
   ],
   "source": [
    "from datetime import datetime, timedelta\n",
    "\n",
    "def date_range(start_date, end_date):\n",
    "    dates_between = []\n",
    "    try:\n",
    "        start_date_date = datetime.strptime(start_date, '%Y-%m-%d')\n",
    "        end_date_date = datetime.strptime(end_date, '%Y-%m-%d')\n",
    "    except ValueError:\n",
    "        print('Такие даты неизвестны')\n",
    "        return dates_between\n",
    "    \n",
    "    i = 0\n",
    "    while start_date_date < end_date_date:\n",
    "        dates_between.append(datetime.strftime(start_date_date + timedelta(days=i), '%Y-%m-%d'))\n",
    "        start_date_date += timedelta(days=i)\n",
    "        i = 1\n",
    "    \n",
    "    return dates_between\n",
    "\n",
    "start = input('Введите дату начала в формате YYYY-MM-DD ')\n",
    "finish = input('Введите дату конца в формате YYYY-MM-DD ')\n",
    "\n",
    "date_range(start, finish)"
   ]
  },
  {
   "cell_type": "code",
   "execution_count": null,
   "metadata": {},
   "outputs": [],
   "source": []
  }
 ],
 "metadata": {
  "kernelspec": {
   "display_name": "Python 3",
   "language": "python",
   "name": "python3"
  },
  "language_info": {
   "codemirror_mode": {
    "name": "ipython",
    "version": 3
   },
   "file_extension": ".py",
   "mimetype": "text/x-python",
   "name": "python",
   "nbconvert_exporter": "python",
   "pygments_lexer": "ipython3",
   "version": "3.7.6"
  }
 },
 "nbformat": 4,
 "nbformat_minor": 4
}
